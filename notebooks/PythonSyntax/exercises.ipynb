{
 "cells": [
  {
   "cell_type": "markdown",
   "id": "231f0f5f-f98f-4503-a1d4-b052a674d151",
   "metadata": {},
   "source": [
    "## Exercise"
   ]
  },
  {
   "cell_type": "markdown",
   "id": "6d326c0a-88bc-482c-a246-1b9864288160",
   "metadata": {},
   "source": [
    "Exercise 1: Python Syntax\n",
    "Write a Python program that prints the numbers from 1 to 10 using a for loop."
   ]
  },
  {
   "cell_type": "code",
   "execution_count": null,
   "id": "f3a467d2-eb46-4f07-a4a4-5d0ee84ecc62",
   "metadata": {},
   "outputs": [],
   "source": []
  },
  {
   "cell_type": "markdown",
   "id": "f90a3d09-8890-4a8e-8d59-898bde870e8b",
   "metadata": {},
   "source": [
    "Exercise 2: Variables and Data Types\n",
    "Create two variables, `x` and `y`, and assign them values. Perform the following operations:\n",
    "- Add `x` and `y` and print the result.\n",
    "- Concatenate `x` and `y` as strings and print the result."
   ]
  },
  {
   "cell_type": "code",
   "execution_count": null,
   "id": "5b0e2e12-b3b4-44ae-9f49-ec8f58f164e7",
   "metadata": {},
   "outputs": [],
   "source": []
  },
  {
   "cell_type": "markdown",
   "id": "039f05d8-a58f-4c1d-a1b1-bc7166b85f88",
   "metadata": {},
   "source": [
    "Exercise 3: Control Flow\n",
    "Write a Python program that takes an input from the user and checks if it's an even or odd number. Print an appropriate message based on the input."
   ]
  },
  {
   "cell_type": "code",
   "execution_count": null,
   "id": "0d5c319b-aca6-4386-8db9-c5d75b322364",
   "metadata": {},
   "outputs": [],
   "source": []
  },
  {
   "cell_type": "markdown",
   "id": "49e848f3-a191-4a81-aad6-5242a40ef051",
   "metadata": {},
   "source": [
    "Exercise 4: Functions\n",
    "Write a function that takes two numbers as input and returns their sum. Call the function with different arguments and print the results."
   ]
  },
  {
   "cell_type": "code",
   "execution_count": null,
   "id": "f50792bc-fca4-48d6-b96e-fb251046c38a",
   "metadata": {},
   "outputs": [],
   "source": []
  },
  {
   "cell_type": "markdown",
   "id": "41dffbbd-15d0-466a-b21d-0307bf3eceae",
   "metadata": {},
   "source": [
    "Exercise 5: Lists and Dictionaries\n",
    "Create a list of five colors. Print the third color in the list. Append two more colors to the list and print the updated list."
   ]
  },
  {
   "cell_type": "code",
   "execution_count": null,
   "id": "132a8c3e-ce8b-41d7-a78e-b9a5059efed6",
   "metadata": {},
   "outputs": [],
   "source": []
  },
  {
   "cell_type": "markdown",
   "id": "9c309873-8cbc-4a94-9d4e-62ef3a4ffb39",
   "metadata": {},
   "source": [
    "Exercise 6: Error Handling\n",
    "Write a Python program that asks the user to enter a number. Use a try-except block to handle any ValueError that may occur if the user enters a non-numeric value. \n",
    "Print an error message if a ValueError occurs."
   ]
  },
  {
   "cell_type": "code",
   "execution_count": null,
   "id": "3b0842e9-78ff-41e9-b5a8-c0cef29fb908",
   "metadata": {},
   "outputs": [],
   "source": []
  },
  {
   "cell_type": "markdown",
   "id": "f4602c0d-02e0-493d-bdf8-ed3ec2cc423e",
   "metadata": {},
   "source": [
    "These exercises provide opportunities for learners to practice and reinforce the concepts covered in the tutorial. "
   ]
  },
  {
   "cell_type": "code",
   "execution_count": null,
   "id": "70eeaeae-a01a-4eb9-8446-f11f6e519fca",
   "metadata": {},
   "outputs": [],
   "source": []
  }
 ],
 "metadata": {
  "kernelspec": {
   "display_name": "Python 3 (ipykernel)",
   "language": "python",
   "name": "python3"
  },
  "language_info": {
   "codemirror_mode": {
    "name": "ipython",
    "version": 3
   },
   "file_extension": ".py",
   "mimetype": "text/x-python",
   "name": "python",
   "nbconvert_exporter": "python",
   "pygments_lexer": "ipython3",
   "version": "3.10.11"
  }
 },
 "nbformat": 4,
 "nbformat_minor": 5
}
