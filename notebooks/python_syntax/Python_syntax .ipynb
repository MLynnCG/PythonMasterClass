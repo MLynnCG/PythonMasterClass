{
 "cells": [
  {
   "cell_type": "markdown",
   "id": "dea3a064-5b31-4d31-9f27-b0e75ae66372",
   "metadata": {},
   "source": [
    "## Import Libraries"
   ]
  },
  {
   "cell_type": "code",
   "execution_count": null,
   "id": "4315ec68-ddb9-45b8-8ab1-7cdb1c4f3374",
   "metadata": {},
   "outputs": [],
   "source": []
  },
  {
   "cell_type": "markdown",
   "id": "c61923e0-1949-42e6-96b4-34d80f6e46d6",
   "metadata": {},
   "source": [
    "# Python Syntax"
   ]
  },
  {
   "cell_type": "code",
   "execution_count": 1,
   "id": "c011c8ab-6e9b-4f9a-9806-2e2f2134636c",
   "metadata": {},
   "outputs": [
    {
     "name": "stdout",
     "output_type": "stream",
     "text": [
      "Hello, world!\n"
     ]
    }
   ],
   "source": [
    "print(\"Hello, world!\")  # Example of a statement"
   ]
  },
  {
   "cell_type": "markdown",
   "id": "9bfb572b-ffab-49f8-8cd0-e72ffc9e90ff",
   "metadata": {},
   "source": [
    "# Variables and Data Types"
   ]
  },
  {
   "cell_type": "code",
   "execution_count": null,
   "id": "fdcbd3a7-75dc-43b2-85f5-d9cffb18fa09",
   "metadata": {},
   "outputs": [],
   "source": [
    "x = 10  # Integer variable\n",
    "y = 3.14  # Float variable\n",
    "name = \"John\"  # String variable\n",
    "is_valid = True  # Boolean variable"
   ]
  },
  {
   "cell_type": "markdown",
   "id": "25afe449-8639-44a8-9771-d8a77d6aaedf",
   "metadata": {},
   "source": [
    "# Control Flow"
   ]
  },
  {
   "cell_type": "code",
   "execution_count": null,
   "id": "188b3d45-b2b2-4d47-8c7e-b689afae15e4",
   "metadata": {},
   "outputs": [],
   "source": [
    "if x > 5:\n",
    "    print(\"x is greater than 5\")\n",
    "else:\n",
    "    print(\"x is not greater than 5\")\n",
    "\n",
    "for i in range(5):\n",
    "    print(i)\n",
    "\n",
    "while y < 5:\n",
    "    print(y)\n",
    "    y += 1"
   ]
  },
  {
   "cell_type": "markdown",
   "id": "95bae57e-01cd-44a6-a274-4086d1539259",
   "metadata": {},
   "source": [
    "# Functions"
   ]
  },
  {
   "cell_type": "code",
   "execution_count": null,
   "id": "0ee0632d-6a47-4b5d-b23b-d3a26d5aad2b",
   "metadata": {},
   "outputs": [],
   "source": [
    "def greet(name):\n",
    "    print(\"Hello, \" + name + \"!\")\n",
    "\n",
    "greet(\"Alice\")\n",
    "\n",
    "def add_numbers(a, b):\n",
    "    return a + b\n",
    "\n",
    "result = add_numbers(3, 5)\n",
    "print(result)"
   ]
  },
  {
   "cell_type": "markdown",
   "id": "215acd61-ebbd-4127-b1c0-96b324cd7899",
   "metadata": {},
   "source": [
    "# Lists and Dictionaries"
   ]
  },
  {
   "cell_type": "code",
   "execution_count": null,
   "id": "7971a757-fc5e-4934-a1cd-ef674c488c23",
   "metadata": {},
   "outputs": [],
   "source": [
    "my_list = [1, 2, 3, 4, 5]\n",
    "print(my_list)\n",
    "\n",
    "my_dict = {\"name\": \"John\", \"age\": 30, \"city\": \"New York\"}\n",
    "print(my_dict[\"name\"])"
   ]
  },
  {
   "cell_type": "markdown",
   "id": "d931f44c-8739-4c3b-8e9d-0a066632b080",
   "metadata": {},
   "source": [
    "# Error Handling"
   ]
  },
  {
   "cell_type": "code",
   "execution_count": null,
   "id": "8305858d-17bf-4a07-8eb4-f0c4b14e333b",
   "metadata": {},
   "outputs": [],
   "source": [
    "try:\n",
    "    result = 10 / 0\n",
    "except ZeroDivisionError:\n",
    "    print(\"Error: Division by zero\")"
   ]
  }
 ],
 "metadata": {
  "kernelspec": {
   "display_name": "Python 3 (ipykernel)",
   "language": "python",
   "name": "python3"
  },
  "language_info": {
   "codemirror_mode": {
    "name": "ipython",
    "version": 3
   },
   "file_extension": ".py",
   "mimetype": "text/x-python",
   "name": "python",
   "nbconvert_exporter": "python",
   "pygments_lexer": "ipython3",
   "version": "3.10.11"
  }
 },
 "nbformat": 4,
 "nbformat_minor": 5
}
