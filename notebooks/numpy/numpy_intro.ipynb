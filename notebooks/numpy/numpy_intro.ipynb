{
 "cells": [
  {
   "cell_type": "markdown",
   "id": "ced5915a-17d0-41c6-ab01-20bf98d39ad2",
   "metadata": {},
   "source": [
    "# Import the library"
   ]
  },
  {
   "cell_type": "code",
   "execution_count": null,
   "id": "27348496-c26e-4188-b587-8aee045306b8",
   "metadata": {},
   "outputs": [],
   "source": [
    "import numpy as np"
   ]
  },
  {
   "cell_type": "code",
   "execution_count": null,
   "id": "a1d324a6-bc16-44d8-98ca-36d407951e14",
   "metadata": {},
   "outputs": [],
   "source": [
    "# Introduction to NumPy and its array objects\n",
    "print(\"Welcome to the tutorial on NumPy and its array objects!\")"
   ]
  },
  {
   "cell_type": "markdown",
   "id": "19ea6d7d-b1e1-4de5-9d90-bf677a77bfbd",
   "metadata": {},
   "source": [
    "# Creating NumPy arrays"
   ]
  },
  {
   "cell_type": "code",
   "execution_count": null,
   "id": "e0395b69-a48d-4eed-9a31-c637f52d93e4",
   "metadata": {},
   "outputs": [],
   "source": [
    "arr1 = np.array([1, 2, 3, 4, 5])\n",
    "arr2 = np.array([[1, 2, 3], [4, 5, 6]])\n",
    "\n",
    "print(\"arr1:\", arr1)\n",
    "print(\"arr2:\", arr2)"
   ]
  },
  {
   "cell_type": "markdown",
   "id": "51c54cd1-4d2c-4e3e-8a7f-7c0851c67174",
   "metadata": {},
   "source": [
    "# Array attributes"
   ]
  },
  {
   "cell_type": "code",
   "execution_count": null,
   "id": "c00384dd-d068-4310-990f-42d95851bd71",
   "metadata": {},
   "outputs": [],
   "source": [
    "print(\"Shape of arr1:\", arr1.shape)\n",
    "print(\"Shape of arr2:\", arr2.shape)\n",
    "print(\"Data type of arr1:\", arr1.dtype)\n",
    "print(\"Data type of arr2:\", arr2.dtype)\n",
    "print(\"Number of dimensions in arr1:\", arr1.ndim)\n",
    "print(\"Number of dimensions in arr2:\", arr2.ndim)"
   ]
  },
  {
   "cell_type": "markdown",
   "id": "c9af029b-705b-4af6-8d9b-df300ba08110",
   "metadata": {},
   "source": [
    "# Array indexing and slicing"
   ]
  },
  {
   "cell_type": "code",
   "execution_count": null,
   "id": "aca7fbb4-9f8c-41b9-8fb4-93b3d693c96d",
   "metadata": {},
   "outputs": [],
   "source": [
    "print(\"First element of arr1:\", arr1[0])\n",
    "print(\"Element at row 0, column 1 in arr2:\", arr2[0, 1])\n",
    "print(\"Slicing arr1 from index 1 to 3:\", arr1[1:4])\n",
    "print(\"Slicing arr2 to get the second row:\", arr2[1, :])"
   ]
  },
  {
   "cell_type": "markdown",
   "id": "102203e0-c143-40cb-85f0-aa551ec65bab",
   "metadata": {},
   "source": [
    "# Array operations"
   ]
  },
  {
   "cell_type": "code",
   "execution_count": null,
   "id": "e4c1352c-4bb7-48de-96cc-5e9b6e2400bf",
   "metadata": {},
   "outputs": [],
   "source": [
    "arr3 = np.array([5, 6, 7, 8, 9])\n",
    "\n",
    "# Element-wise arithmetic operations\n",
    "print(\"Addition of arr1 and arr3:\", arr1 + arr3)\n",
    "print(\"Subtraction of arr1 and arr3:\", arr1 - arr3)\n",
    "print(\"Multiplication of arr1 and arr3:\", arr1 * arr3)\n",
    "print(\"Division of arr1 and arr3:\", arr1 / arr3)"
   ]
  },
  {
   "cell_type": "code",
   "execution_count": null,
   "id": "c483150e-f174-4738-af7b-35d4ca4eec76",
   "metadata": {},
   "outputs": [],
   "source": [
    "# Universal functions (ufuncs)\n",
    "print(\"Square root of arr3:\", np.sqrt(arr3))\n",
    "print(\"Exponential of arr3:\", np.exp(arr3))\n",
    "print(\"Sum of arr1:\", np.sum(arr1))\n",
    "print(\"Mean of arr1:\", np.mean(arr1))\n",
    "print(\"Maximum value in arr1:\", np.max(arr1))\n",
    "print(\"Minimum value in arr1:\", np.min(arr1))"
   ]
  },
  {
   "cell_type": "code",
   "execution_count": null,
   "id": "fb45fa84-1f81-46aa-974b-f03dca5b8d2e",
   "metadata": {},
   "outputs": [],
   "source": [
    "# Array reshaping\n",
    "arr4 = np.array([1, 2, 3, 4, 5, 6])\n",
    "reshaped_arr = arr4.reshape(2, 3)\n",
    "\n",
    "print(\"arr4:\", arr4)\n",
    "print(\"reshaped_arr:\", reshaped_arr)"
   ]
  },
  {
   "cell_type": "code",
   "execution_count": null,
   "id": "e6f7c52b-df1e-4f47-9efd-67158ff95cf1",
   "metadata": {},
   "outputs": [],
   "source": [
    "# Array concatenation\n",
    "arr5 = np.array([1, 2, 3])\n",
    "arr6 = np.array([4, 5, 6])\n",
    "concatenated_arr = np.concatenate((arr5, arr6))\n",
    "\n",
    "print(\"arr5:\", arr5)\n",
    "print(\"arr6:\", arr6)\n",
    "print(\"Concatenated array:\", concatenated_arr)"
   ]
  },
  {
   "cell_type": "code",
   "execution_count": null,
   "id": "409a5fec-63a2-4a36-8103-49011a3d0e86",
   "metadata": {},
   "outputs": [],
   "source": [
    "# Conclusion\n",
    "print(\"Congratulations! You have completed the tutorial on NumPy and its array objects.\")"
   ]
  }
 ],
 "metadata": {
  "kernelspec": {
   "display_name": "Python 3 (ipykernel)",
   "language": "python",
   "name": "python3"
  },
  "language_info": {
   "codemirror_mode": {
    "name": "ipython",
    "version": 3
   },
   "file_extension": ".py",
   "mimetype": "text/x-python",
   "name": "python",
   "nbconvert_exporter": "python",
   "pygments_lexer": "ipython3",
   "version": "3.10.11"
  }
 },
 "nbformat": 4,
 "nbformat_minor": 5
}
