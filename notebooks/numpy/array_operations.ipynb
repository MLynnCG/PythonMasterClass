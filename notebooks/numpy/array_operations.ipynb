import numpy as np

# Create two NumPy arrays
arr1 = np.array([1, 2, 3, 4])
arr2 = np.array([5, 6, 7, 8])

# Arithmetic operations
print("Addition:", arr1 + arr2)           # Element-wise addition
print("Subtraction:", arr1 - arr2)        # Element-wise subtraction
print("Multiplication:", arr1 * arr2)     # Element-wise multiplication
print("Division:", arr1 / arr2)           # Element-wise division
print("Exponentiation:", arr1 ** arr2)    # Element-wise exponentiation

# Scalar operations
print("Scalar Addition:", arr1 + 5)       # Add a scalar value to each element
print("Scalar Subtraction:", arr2 - 2)    # Subtract a scalar value from each element
print("Scalar Multiplication:", arr1 * 3) # Multiply each element by a scalar value
print("Scalar Division:", arr2 / 4)       # Divide each element by a scalar value

# Logical operations
print("Logical AND:", arr1 < 3)           # Element-wise comparison (less than)
print("Logical OR:", arr2 >= 7)           # Element-wise comparison (greater than or equal to)
print("Logical NOT:", np.logical_not(arr1 < 3))  # Element-wise logical NOT
print("Logical AND with two arrays:", np.logical_and(arr1 < 3, arr2 > 5))  # Element-wise logical AND with two arrays
