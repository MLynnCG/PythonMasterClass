import numpy as np

# Create a 2D NumPy array
matrix = np.array([[1, 2, 3, 4],
                   [5, 6, 7, 8],
                   [9, 10, 11, 12]])

# Accessing elements in a NumPy array
print("Element at (0, 2):", matrix[0, 2])  # Access a single element
print("First row:", matrix[0])             # Access an entire row
print("Last column:", matrix[:, -1])       # Access an entire column

# Slicing NumPy arrays
print("Sliced array (rows 0 to 1, columns 1 to 3):")
print(matrix[0:2, 1:3])   # Slicing a subarray

# Modifying elements in a NumPy array
matrix[1, 2] = 77   # Modify a single element
print("Modified array:")
print(matrix)

# Boolean indexing
mask = matrix > 5   # Create a boolean mask based on a condition
print("Boolean mask:")
print(mask)
print("Elements greater than 5:")
print(matrix[mask])   # Select elements based on the boolean mask
