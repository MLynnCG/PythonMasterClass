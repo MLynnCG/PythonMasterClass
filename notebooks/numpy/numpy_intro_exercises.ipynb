{
 "cells": [
  {
   "cell_type": "markdown",
   "id": "8ed13623-de82-46d1-a784-80ccaea7815d",
   "metadata": {},
   "source": [
    "## Now Try what you learned"
   ]
  },
  {
   "cell_type": "markdown",
   "id": "e4392c3f-30b4-431a-8aa4-5d49a9205f3b",
   "metadata": {},
   "source": [
    "Exercise 1: Creating NumPy Arrays\n",
    "1. Create a NumPy array called `arr3` with values [10, 20, 30, 40, 50].\n",
    "2. Create a 2-dimensional NumPy array called `arr4` with values [[1, 2, 3], [4, 5, 6]]."
   ]
  },
  {
   "cell_type": "code",
   "execution_count": null,
   "id": "017b30c7-2046-49fe-b567-461e2de5939e",
   "metadata": {},
   "outputs": [],
   "source": []
  },
  {
   "cell_type": "markdown",
   "id": "7d576f04-a809-48ba-bd59-bd6612b25c4a",
   "metadata": {},
   "source": [
    "Exercise 2: Array Attributes and Indexing\n",
    "1. Print the shape and data type of `arr3`.\n",
    "2. Print the element at index 2 of `arr3`.\n",
    "3. Print the first row of `arr4`."
   ]
  },
  {
   "cell_type": "code",
   "execution_count": null,
   "id": "9f3a98aa-e172-4955-a465-7cb4e8e4db9d",
   "metadata": {},
   "outputs": [],
   "source": []
  },
  {
   "cell_type": "markdown",
   "id": "a8521765-dbef-4686-8c67-3c1f9f1b6178",
   "metadata": {},
   "source": [
    "Exercise 3: Array Operations\n",
    "1. Create a new array `arr5` with values [1, 2, 3, 4, 5].\n",
    "2. Perform element-wise multiplication between `arr3` and `arr5`.\n",
    "3. Calculate the sum of `arr5`.\n",
    "4. Calculate the maximum value in `arr5`."
   ]
  },
  {
   "cell_type": "code",
   "execution_count": null,
   "id": "c1eff4d9-ba49-4c9b-a294-ff42ac587175",
   "metadata": {},
   "outputs": [],
   "source": []
  },
  {
   "cell_type": "markdown",
   "id": "63f34e67-2ff2-43da-b20c-695996baa61d",
   "metadata": {},
   "source": [
    "Exercise 4: Universal Functions (ufuncs)\n",
    "1. Calculate the square root of each element in `arr3`.\n",
    "2. Calculate the exponential of each element in `arr3`."
   ]
  },
  {
   "cell_type": "code",
   "execution_count": null,
   "id": "d73f738b-539e-47e0-8729-610ac5bed109",
   "metadata": {},
   "outputs": [],
   "source": []
  },
  {
   "cell_type": "markdown",
   "id": "0026808d-e677-4b2d-9fd3-1bc6950d24b8",
   "metadata": {},
   "source": [
    "Exercise 5: Array Reshaping and Concatenation\n",
    "1. Reshape `arr5` into a 2x3 array.\n",
    "2. Create a new array `arr6` with values [6, 7, 8] and concatenate it with `arr5`."
   ]
  },
  {
   "cell_type": "code",
   "execution_count": null,
   "id": "4b316c02-d7e1-4061-beda-540372543098",
   "metadata": {},
   "outputs": [],
   "source": []
  }
 ],
 "metadata": {
  "kernelspec": {
   "display_name": "Python 3 (ipykernel)",
   "language": "python",
   "name": "python3"
  },
  "language_info": {
   "codemirror_mode": {
    "name": "ipython",
    "version": 3
   },
   "file_extension": ".py",
   "mimetype": "text/x-python",
   "name": "python",
   "nbconvert_exporter": "python",
   "pygments_lexer": "ipython3",
   "version": "3.10.11"
  }
 },
 "nbformat": 4,
 "nbformat_minor": 5
}
