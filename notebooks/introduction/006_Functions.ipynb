{
 "cells": [
  {
   "cell_type": "markdown",
   "id": "ba64aef7-2cc2-474e-a28d-2d6c123a1a33",
   "metadata": {},
   "source": [
    "## Returning a Value"
   ]
  },
  {
   "cell_type": "code",
   "execution_count": 3,
   "id": "fb6b3db6-1c83-4355-a032-5f8cb5ea881e",
   "metadata": {},
   "outputs": [],
   "source": [
    "def get_number_word(number):\n",
    "    # Takes in a numerical value, and returns\n",
    "    #  the word corresponding to that number.\n",
    "    if number == 0:\n",
    "        return 'zero'\n",
    "    if number == 1:\n",
    "        return 'one'\n",
    "    elif number == 2:\n",
    "        return 'two'\n",
    "    elif number == 3:\n",
    "        return 'three'\n",
    "    # ...\n",
    "   "
   ]
  },
  {
   "cell_type": "code",
   "execution_count": 4,
   "id": "8a8da41b-0162-4203-b6ca-5ea4ed3dc2c5",
   "metadata": {},
   "outputs": [
    {
     "name": "stdout",
     "output_type": "stream",
     "text": [
      "0 zero\n",
      "1 one\n",
      "2 two\n",
      "3 three\n"
     ]
    }
   ],
   "source": [
    " \n",
    "# Let's try out our function.\n",
    "for current_number in range(0,4):\n",
    "    number_word = get_number_word(current_number)\n",
    "    print(current_number, number_word)"
   ]
  },
  {
   "cell_type": "code",
   "execution_count": 5,
   "id": "d2ab2749-c9aa-4d0c-aa6e-8189ac18c00d",
   "metadata": {},
   "outputs": [],
   "source": [
    "def mult(a,b):\n",
    "    '''\n",
    "    function multiplies two numbers and returns result\n",
    "    input:\n",
    "    a is first number, b is second number to be multiplied\n",
    "    output:\n",
    "    result of the multiplication\n",
    "    '''\n",
    "    result = a*b\n",
    "    return result\n",
    "    "
   ]
  },
  {
   "cell_type": "code",
   "execution_count": 6,
   "id": "4339b894-1a3e-4052-bdf3-f735977faaac",
   "metadata": {},
   "outputs": [],
   "source": [
    "result = mult(5,10)"
   ]
  },
  {
   "cell_type": "code",
   "execution_count": 10,
   "id": "93fc7db9-b37c-4095-913c-b335c42b7070",
   "metadata": {},
   "outputs": [
    {
     "data": {
      "text/plain": [
       "50"
      ]
     },
     "execution_count": 10,
     "metadata": {},
     "output_type": "execute_result"
    }
   ],
   "source": [
    "result"
   ]
  },
  {
   "cell_type": "code",
   "execution_count": 8,
   "id": "92c7e232-6627-49ca-b8de-98d3cc3f996a",
   "metadata": {},
   "outputs": [
    {
     "name": "stdout",
     "output_type": "stream",
     "text": [
      "Help on function mult in module __main__:\n",
      "\n",
      "mult(a, b)\n",
      "    function multiplies two numbers and returns result\n",
      "    input:\n",
      "    a is first number, b is second number to be multiplied\n",
      "    output:\n",
      "    result of the multiplication\n",
      "\n"
     ]
    }
   ],
   "source": [
    "help(mult)"
   ]
  },
  {
   "cell_type": "code",
   "execution_count": 9,
   "id": "99abc8a0-b55a-4d21-9a44-3d155551fbd3",
   "metadata": {},
   "outputs": [
    {
     "name": "stdout",
     "output_type": "stream",
     "text": [
      "Help on function get_number_word in module __main__:\n",
      "\n",
      "get_number_word(number)\n",
      "\n"
     ]
    }
   ],
   "source": [
    "help(get_number_word)"
   ]
  },
  {
   "cell_type": "code",
   "execution_count": 16,
   "id": "81a8e627-ac79-4d51-b1a7-bac1e1772419",
   "metadata": {},
   "outputs": [],
   "source": [
    "def display_labname():\n",
    "    '''\n",
    "    This function displays the name of this lab\n",
    "    '''\n",
    "    print(\"      A        IIIIIIIII       RRRR\")\n",
    "    print(\"     A A           I           R   R\") \n",
    "    print(\"    A   A          I           R  R\")\n",
    "    print(\"   AAAAAAA         I           RRR\")\n",
    "    print(\"  A       A        I           R  R\")\n",
    "    print(\" A         A       I           R    R\")\n",
    "    print(\"A           A  IIIIIIIII       R     R\")"
   ]
  },
  {
   "cell_type": "code",
   "execution_count": 17,
   "id": "4537cefc-5af2-4144-b55f-7ef6bbab267b",
   "metadata": {},
   "outputs": [
    {
     "name": "stdout",
     "output_type": "stream",
     "text": [
      "      A        IIIIIIIII       RRRR\n",
      "     A A           I           R   R\n",
      "    A   A          I           R  R\n",
      "   AAAAAAA         I           RRR\n",
      "  A       A        I           R  R\n",
      " A         A       I           R    R\n",
      "A           A  IIIIIIIII       R     R\n"
     ]
    }
   ],
   "source": [
    "display_labname()"
   ]
  },
  {
   "cell_type": "code",
   "execution_count": 18,
   "id": "715c1020-d08e-4334-8c94-23d884007eda",
   "metadata": {},
   "outputs": [],
   "source": [
    "def compute_wavespeed(L,T):\n",
    "    '''\n",
    "    Takes in wavelength and period, returns the speed of the waves\n",
    "    '''\n",
    "    C = L/T\n",
    "    return C"
   ]
  },
  {
   "cell_type": "code",
   "execution_count": 30,
   "id": "04d23896-4b47-4c61-8c3b-2a06796a804b",
   "metadata": {},
   "outputs": [
    {
     "name": "stdin",
     "output_type": "stream",
     "text": [
      "Please provide L 16\n",
      "Please provide T 4\n"
     ]
    },
    {
     "name": "stdout",
     "output_type": "stream",
     "text": [
      "The speed of the wave is 4.0\n"
     ]
    }
   ],
   "source": [
    "L = int(input(\"Please provide L\"))\n",
    "T = int(input(\"Please provide T\"))\n",
    "\n",
    "C = compute_wavespeed(L,T)\n",
    "print(\"The speed of the wave is\", round(C,2))"
   ]
  },
  {
   "cell_type": "code",
   "execution_count": 42,
   "id": "ef495d8e-3d13-4c71-afba-6c419d380ee7",
   "metadata": {},
   "outputs": [],
   "source": [
    "def solve_quadratic_eqn(a,b,c):\n",
    "    '''\n",
    "    Provide coefficients of quadratic equation a, b, c where ax^2 + bx + c = 0\n",
    "    Outputs: Returns +/-x\n",
    "    '''\n",
    "    def sqrt(num):\n",
    "        return num**0.5\n",
    "        \n",
    "    x1 = (-b + sqrt(b**2 - 4*a*c))/(2*a)\n",
    "    x2 = (-b - sqrt(b**2 - 4*a*c))/(2*a)\n",
    "    return x1, x2"
   ]
  },
  {
   "cell_type": "code",
   "execution_count": 43,
   "id": "9a7c95d4-ceeb-49f3-a6f0-c651fa1cd9ba",
   "metadata": {},
   "outputs": [],
   "source": [
    "x1, x2 =solve_quadratic_eqn(2,16,64)"
   ]
  },
  {
   "cell_type": "code",
   "execution_count": 44,
   "id": "8bdeee4b-24a5-4f77-aa77-61cde222da41",
   "metadata": {},
   "outputs": [
    {
     "data": {
      "text/plain": [
       "(-3.9999999999999996+4j)"
      ]
     },
     "execution_count": 44,
     "metadata": {},
     "output_type": "execute_result"
    }
   ],
   "source": [
    "x1"
   ]
  },
  {
   "cell_type": "code",
   "execution_count": null,
   "id": "15453caf-06c3-4ffd-bb4a-fd68d458925a",
   "metadata": {},
   "outputs": [],
   "source": []
  }
 ],
 "metadata": {
  "kernelspec": {
   "display_name": "Python 3 (ipykernel)",
   "language": "python",
   "name": "python3"
  },
  "language_info": {
   "codemirror_mode": {
    "name": "ipython",
    "version": 3
   },
   "file_extension": ".py",
   "mimetype": "text/x-python",
   "name": "python",
   "nbconvert_exporter": "python",
   "pygments_lexer": "ipython3",
   "version": "3.9.20"
  }
 },
 "nbformat": 4,
 "nbformat_minor": 5
}
