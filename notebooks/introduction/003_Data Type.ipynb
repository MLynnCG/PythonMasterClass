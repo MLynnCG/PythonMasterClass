{
 "cells": [
  {
   "cell_type": "markdown",
   "id": "2c81ea1b-5b7a-4571-840f-c5af17a249e9",
   "metadata": {},
   "source": [
    "# Types of Data"
   ]
  },
  {
   "cell_type": "markdown",
   "id": "7813c371-f5cf-4c4a-8bdf-9f23b9c30b53",
   "metadata": {},
   "source": [
    "# Integers are whole numbers"
   ]
  },
  {
   "cell_type": "code",
   "execution_count": 4,
   "id": "fa306be4-0534-444d-aceb-d9c59cbea140",
   "metadata": {
    "collapsed": true,
    "jupyter": {
     "outputs_hidden": true,
     "source_hidden": true
    }
   },
   "outputs": [
    {
     "data": {
      "text/plain": [
       "int"
      ]
     },
     "execution_count": 4,
     "metadata": {},
     "output_type": "execute_result"
    }
   ],
   "source": [
    "type(a)"
   ]
  },
  {
   "cell_type": "code",
   "execution_count": 5,
   "id": "73acfd7c-f916-4d50-8b8a-b5c5e22a319c",
   "metadata": {
    "collapsed": true,
    "jupyter": {
     "outputs_hidden": true,
     "source_hidden": true
    }
   },
   "outputs": [],
   "source": [
    "b = 2.2**0.2"
   ]
  },
  {
   "cell_type": "code",
   "execution_count": 6,
   "id": "8ed235ed-37b6-497a-a40b-1722f249902b",
   "metadata": {
    "collapsed": true,
    "jupyter": {
     "outputs_hidden": true,
     "source_hidden": true
    }
   },
   "outputs": [
    {
     "data": {
      "text/plain": [
       "1.1708049129648923"
      ]
     },
     "execution_count": 6,
     "metadata": {},
     "output_type": "execute_result"
    }
   ],
   "source": [
    "b"
   ]
  },
  {
   "cell_type": "markdown",
   "id": "af3b03b5-c130-4c15-9dd3-f6c5226bc63e",
   "metadata": {},
   "source": [
    "# Float are numbers with decimals"
   ]
  },
  {
   "cell_type": "code",
   "execution_count": 7,
   "id": "92c7528a-9c6c-4991-82e5-1901ad5fa5a1",
   "metadata": {
    "collapsed": true,
    "jupyter": {
     "outputs_hidden": true,
     "source_hidden": true
    }
   },
   "outputs": [
    {
     "data": {
      "text/plain": [
       "float"
      ]
     },
     "execution_count": 7,
     "metadata": {},
     "output_type": "execute_result"
    }
   ],
   "source": [
    "type(b)"
   ]
  },
  {
   "cell_type": "code",
   "execution_count": 8,
   "id": "fe304c52-f0d2-45fd-8a77-1e7e399587e3",
   "metadata": {
    "collapsed": true,
    "jupyter": {
     "outputs_hidden": true,
     "source_hidden": true
    }
   },
   "outputs": [
    {
     "data": {
      "text/plain": [
       "6.1708049129648925"
      ]
     },
     "execution_count": 8,
     "metadata": {},
     "output_type": "execute_result"
    }
   ],
   "source": [
    "a + b"
   ]
  },
  {
   "cell_type": "code",
   "execution_count": 9,
   "id": "71031da7-513d-42c9-bd88-542f20bfb9ce",
   "metadata": {
    "collapsed": true,
    "jupyter": {
     "outputs_hidden": true,
     "source_hidden": true
    }
   },
   "outputs": [],
   "source": [
    "c = int(a + b)"
   ]
  },
  {
   "cell_type": "code",
   "execution_count": 10,
   "id": "1dda6848-1123-4ef3-88c8-6771af79e9a0",
   "metadata": {
    "collapsed": true,
    "jupyter": {
     "outputs_hidden": true,
     "source_hidden": true
    }
   },
   "outputs": [
    {
     "data": {
      "text/plain": [
       "6"
      ]
     },
     "execution_count": 10,
     "metadata": {},
     "output_type": "execute_result"
    }
   ],
   "source": [
    "c"
   ]
  },
  {
   "cell_type": "markdown",
   "id": "8b0a6487-0167-459f-b8fb-7b74598d5211",
   "metadata": {},
   "source": [
    "# % is for remainders"
   ]
  },
  {
   "cell_type": "code",
   "execution_count": 11,
   "id": "1f09b008-44e1-4c61-8e32-df289ae9d55c",
   "metadata": {
    "collapsed": true,
    "jupyter": {
     "outputs_hidden": true,
     "source_hidden": true
    }
   },
   "outputs": [
    {
     "data": {
      "text/plain": [
       "1"
      ]
     },
     "execution_count": 11,
     "metadata": {},
     "output_type": "execute_result"
    }
   ],
   "source": [
    "7%2"
   ]
  },
  {
   "cell_type": "code",
   "execution_count": 12,
   "id": "e334b7de-6766-4669-bef5-8d59403bd560",
   "metadata": {
    "collapsed": true,
    "jupyter": {
     "outputs_hidden": true,
     "source_hidden": true
    }
   },
   "outputs": [
    {
     "data": {
      "text/plain": [
       "50"
      ]
     },
     "execution_count": 12,
     "metadata": {},
     "output_type": "execute_result"
    }
   ],
   "source": [
    "(2+3)*(5+5)"
   ]
  },
  {
   "cell_type": "code",
   "execution_count": null,
   "id": "d514ec6c-9db7-488a-a47e-735255a6644e",
   "metadata": {
    "collapsed": true,
    "jupyter": {
     "outputs_hidden": true,
     "source_hidden": true
    }
   },
   "outputs": [],
   "source": []
  }
 ],
 "metadata": {
  "kernelspec": {
   "display_name": "Python 3 (ipykernel)",
   "language": "python",
   "name": "python3"
  },
  "language_info": {
   "codemirror_mode": {
    "name": "ipython",
    "version": 3
   },
   "file_extension": ".py",
   "mimetype": "text/x-python",
   "name": "python",
   "nbconvert_exporter": "python",
   "pygments_lexer": "ipython3",
   "version": "3.9.20"
  }
 },
 "nbformat": 4,
 "nbformat_minor": 5
}
