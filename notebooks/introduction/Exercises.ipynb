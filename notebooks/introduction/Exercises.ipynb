{
 "cells": [
  {
   "cell_type": "markdown",
   "id": "7b50e4d5-cdcc-4321-8310-5953b6ac73c9",
   "metadata": {},
   "source": [
    " Exercise 1: Python Syntax Write a Python program that prints the numbers from 1 to 10 using a for loop.\n",
    "\n",
    "\n",
    " Exercise 2: Variables and Data Types Create two variables, x and y, and assign them values. Perform the following operations:\n",
    " Add x and y and print the result.\n",
    " Concatenate x and y as strings and print the result.\n",
    "\n",
    "\n",
    " Exercise 3: Control Flow Write a Python program that takes an input from the user and checks if it's an even or odd number. Print an appropriate message based on the input.\n",
    "\n",
    "\n",
    " Exercise 4: Functions Write a function that takes two numbers as input and returns their sum. Call the function with different arguments and print the results.\n",
    "\n",
    " Exercise 5: Lists and Dictionaries Create a list of five colors. Print the third color in the list. Append two more colors to the list and print the updated list.\n"
   ]
  },
  {
   "cell_type": "code",
   "execution_count": 9,
   "id": "94cbc6da-eee9-4f38-97cf-fffbc93128b4",
   "metadata": {
    "collapsed": true,
    "jupyter": {
     "outputs_hidden": true,
     "source_hidden": true
    }
   },
   "outputs": [],
   "source": [
    "import numpy as np"
   ]
  },
  {
   "cell_type": "code",
   "execution_count": 10,
   "id": "02107128-6c5d-4753-980a-0abcb0abd129",
   "metadata": {
    "collapsed": true,
    "jupyter": {
     "outputs_hidden": true,
     "source_hidden": true
    }
   },
   "outputs": [
    {
     "name": "stdout",
     "output_type": "stream",
     "text": [
      "1\n",
      "2\n",
      "3\n",
      "4\n",
      "5\n",
      "6\n",
      "7\n",
      "8\n",
      "9\n",
      "10\n"
     ]
    }
   ],
   "source": [
    "for num in range(1,11):\n",
    "    print(num)"
   ]
  },
  {
   "cell_type": "code",
   "execution_count": 14,
   "id": "b999c923-d097-4eb7-9839-21a538411166",
   "metadata": {
    "collapsed": true,
    "jupyter": {
     "outputs_hidden": true,
     "source_hidden": true
    }
   },
   "outputs": [
    {
     "name": "stdout",
     "output_type": "stream",
     "text": [
      "15 27\n"
     ]
    }
   ],
   "source": [
    "x = 15\n",
    "y = 27\n",
    "print(str(x) + \" \" + str(y))\n"
   ]
  },
  {
   "cell_type": "code",
   "execution_count": 20,
   "id": "3f1e85f3-f5c0-4f42-b998-022e4ea6a500",
   "metadata": {
    "collapsed": true,
    "jupyter": {
     "outputs_hidden": true,
     "source_hidden": true
    }
   },
   "outputs": [],
   "source": [
    "def even_odd(a):\n",
    "    '''\n",
    "    This function checks if \"a\" is even or odd\n",
    "    '''\n",
    "    if a%2 == 0:\n",
    "        print(a, \"is an even number\")\n",
    "    else:\n",
    "        print(a, \"is an odd number\")\n",
    "        "
   ]
  },
  {
   "cell_type": "code",
   "execution_count": 21,
   "id": "607e1540-c8bf-4098-953c-d7af2aaab47e",
   "metadata": {
    "collapsed": true,
    "jupyter": {
     "outputs_hidden": true,
     "source_hidden": true
    }
   },
   "outputs": [
    {
     "name": "stdout",
     "output_type": "stream",
     "text": [
      "10 is an even number\n"
     ]
    }
   ],
   "source": [
    "even_odd(10)"
   ]
  },
  {
   "cell_type": "code",
   "execution_count": 22,
   "id": "bc1bc4c4-457c-4bea-81ef-4e9c1b072048",
   "metadata": {
    "collapsed": true,
    "jupyter": {
     "outputs_hidden": true,
     "source_hidden": true
    }
   },
   "outputs": [
    {
     "name": "stdout",
     "output_type": "stream",
     "text": [
      "9 is an odd number\n"
     ]
    }
   ],
   "source": [
    "even_odd(9)"
   ]
  },
  {
   "cell_type": "code",
   "execution_count": 23,
   "id": "76f3b423-d93f-4324-b59a-136ebb31fc1f",
   "metadata": {
    "collapsed": true,
    "jupyter": {
     "outputs_hidden": true,
     "source_hidden": true
    }
   },
   "outputs": [],
   "source": [
    "def Sum(a,b):\n",
    "    '''\n",
    "    This function returns two numbers as a sum\n",
    "    '''\n",
    "    print(a + b)"
   ]
  },
  {
   "cell_type": "code",
   "execution_count": 24,
   "id": "c2d28301-f169-4afb-882f-94269532d1c2",
   "metadata": {
    "collapsed": true,
    "jupyter": {
     "outputs_hidden": true,
     "source_hidden": true
    }
   },
   "outputs": [
    {
     "name": "stdout",
     "output_type": "stream",
     "text": [
      "17\n"
     ]
    }
   ],
   "source": [
    "Sum(7,10)"
   ]
  },
  {
   "cell_type": "code",
   "execution_count": 27,
   "id": "896d855b-1391-4d95-bc89-e84e090480f4",
   "metadata": {
    "collapsed": true,
    "jupyter": {
     "outputs_hidden": true,
     "source_hidden": true
    }
   },
   "outputs": [
    {
     "name": "stdout",
     "output_type": "stream",
     "text": [
      "yellow\n"
     ]
    }
   ],
   "source": [
    "colors = [\"red\", \"orange\", \"yellow\", \"green\", \"blue\"]\n",
    "print(colors[2])"
   ]
  },
  {
   "cell_type": "code",
   "execution_count": null,
   "id": "743e6a9c-2472-4dcd-86ed-32d4c754a2d8",
   "metadata": {
    "collapsed": true,
    "jupyter": {
     "outputs_hidden": true,
     "source_hidden": true
    }
   },
   "outputs": [],
   "source": []
  },
  {
   "cell_type": "code",
   "execution_count": 30,
   "id": "ea7b9c8a-5e2c-432b-abae-37b4a09f239b",
   "metadata": {
    "collapsed": true,
    "jupyter": {
     "outputs_hidden": true,
     "source_hidden": true
    }
   },
   "outputs": [],
   "source": [
    "colors.append(\"cyan\")"
   ]
  },
  {
   "cell_type": "code",
   "execution_count": 31,
   "id": "1420e345-a3ad-4bb3-86db-e79801725681",
   "metadata": {
    "collapsed": true,
    "jupyter": {
     "outputs_hidden": true,
     "source_hidden": true
    }
   },
   "outputs": [],
   "source": [
    "colors.append(\"mahogany\")"
   ]
  },
  {
   "cell_type": "code",
   "execution_count": 32,
   "id": "b31882f1-83b7-40b4-99a2-3d035a8bad20",
   "metadata": {
    "collapsed": true,
    "jupyter": {
     "outputs_hidden": true,
     "source_hidden": true
    }
   },
   "outputs": [
    {
     "data": {
      "text/plain": [
       "['red', 'orange', 'yellow', 'green', 'blue', 'cyan', 'mahogany']"
      ]
     },
     "execution_count": 32,
     "metadata": {},
     "output_type": "execute_result"
    }
   ],
   "source": [
    "colors"
   ]
  },
  {
   "cell_type": "code",
   "execution_count": null,
   "id": "906d6319-9686-4e51-adce-cedad2dfda34",
   "metadata": {
    "collapsed": true,
    "jupyter": {
     "outputs_hidden": true,
     "source_hidden": true
    }
   },
   "outputs": [],
   "source": []
  }
 ],
 "metadata": {
  "kernelspec": {
   "display_name": "Python 3 (ipykernel)",
   "language": "python",
   "name": "python3"
  },
  "language_info": {
   "codemirror_mode": {
    "name": "ipython",
    "version": 3
   },
   "file_extension": ".py",
   "mimetype": "text/x-python",
   "name": "python",
   "nbconvert_exporter": "python",
   "pygments_lexer": "ipython3",
   "version": "3.9.20"
  }
 },
 "nbformat": 4,
 "nbformat_minor": 5
}
