{
 "cells": [
  {
   "cell_type": "markdown",
   "id": "21f497d3-6d23-41e0-a2b5-7eb3eb5014cd",
   "metadata": {},
   "source": [
    "# Stop Using If-Else!"
   ]
  },
  {
   "cell_type": "markdown",
   "id": "92fdd2e4-c8b7-49c9-8c81-9b2044784b9b",
   "metadata": {},
   "source": [
    "# Beginner"
   ]
  },
  {
   "cell_type": "code",
   "execution_count": 18,
   "id": "29f182e8-dc14-4593-b2d2-b809e2742083",
   "metadata": {},
   "outputs": [],
   "source": [
    "def get_status_v0(code):\n",
    "    if code == 200:\n",
    "        return \"OK\"\n",
    "    elif code == 404:\n",
    "        return \"Not Found\"\n",
    "    elif code == 500:\n",
    "        return \"Server Error\"\n",
    "    else:\n",
    "        return \"Unknown\"        "
   ]
  },
  {
   "cell_type": "markdown",
   "id": "e29e74ed-6a04-48a8-b69c-d37e05f16f15",
   "metadata": {},
   "source": [
    "# Expert"
   ]
  },
  {
   "cell_type": "code",
   "execution_count": 15,
   "id": "3fb355d7-477e-4db3-8a5c-4f91e1875f5a",
   "metadata": {},
   "outputs": [],
   "source": [
    "def get_status_v1(code):\n",
    "    return {200: \"OK\", 404: \"Not Found\", 500: \"Server Error\"}.get(code, \"Unknown\")"
   ]
  },
  {
   "cell_type": "code",
   "execution_count": 22,
   "id": "0dca3256-aebd-460a-8260-476c9d80c7b2",
   "metadata": {},
   "outputs": [
    {
     "data": {
      "text/plain": [
       "'Server Error'"
      ]
     },
     "execution_count": 22,
     "metadata": {},
     "output_type": "execute_result"
    }
   ],
   "source": [
    "get_status_v0(code=500)"
   ]
  },
  {
   "cell_type": "code",
   "execution_count": 21,
   "id": "05b22bb7-43eb-440c-9c82-5cd8883ab197",
   "metadata": {},
   "outputs": [
    {
     "data": {
      "text/plain": [
       "'Server Error'"
      ]
     },
     "execution_count": 21,
     "metadata": {},
     "output_type": "execute_result"
    }
   ],
   "source": [
    "get_status_v1(code=500)"
   ]
  },
  {
   "cell_type": "code",
   "execution_count": null,
   "id": "3d0b2dcb-e027-4a99-82c9-ab31c6c149a7",
   "metadata": {
    "collapsed": true,
    "jupyter": {
     "outputs_hidden": true,
     "source_hidden": true
    }
   },
   "outputs": [],
   "source": []
  }
 ],
 "metadata": {
  "kernelspec": {
   "display_name": "Python 3 (ipykernel)",
   "language": "python",
   "name": "python3"
  },
  "language_info": {
   "codemirror_mode": {
    "name": "ipython",
    "version": 3
   },
   "file_extension": ".py",
   "mimetype": "text/x-python",
   "name": "python",
   "nbconvert_exporter": "python",
   "pygments_lexer": "ipython3",
   "version": "3.9.20"
  }
 },
 "nbformat": 4,
 "nbformat_minor": 5
}
