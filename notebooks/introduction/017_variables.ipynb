{
 "cells": [
  {
   "cell_type": "markdown",
   "id": "56c7087c-d1de-487b-abae-63a10a2ec531",
   "metadata": {},
   "source": [
    "## Python Variables"
   ]
  },
  {
   "cell_type": "code",
   "execution_count": 11,
   "id": "7ed06dee-cb4c-403e-a1d5-7e6071555ba3",
   "metadata": {},
   "outputs": [],
   "source": [
    "# assign variables\n",
    "x = 10 #integer\n",
    "y = 3.142 #float\n",
    "name = \"Bernard\" #string\n",
    "is_active = True  #boolean"
   ]
  },
  {
   "cell_type": "code",
   "execution_count": 18,
   "id": "0f3da57c-134a-4a74-9270-8f8d11c68f16",
   "metadata": {},
   "outputs": [
    {
     "name": "stdout",
     "output_type": "stream",
     "text": [
      "Variable    Type     Data/Info\n",
      "------------------------------\n",
      "c           float    9.872164\n",
      "is_active   bool     True\n",
      "name        str      Bernard\n",
      "x           int      10\n",
      "y           float    3.142\n"
     ]
    }
   ],
   "source": [
    "whos"
   ]
  },
  {
   "cell_type": "code",
   "execution_count": 12,
   "id": "0aaa43ae-001c-4f97-b264-bda6d9787890",
   "metadata": {},
   "outputs": [
    {
     "data": {
      "text/plain": [
       "'Bernard'"
      ]
     },
     "execution_count": 12,
     "metadata": {},
     "output_type": "execute_result"
    }
   ],
   "source": [
    "name"
   ]
  },
  {
   "cell_type": "code",
   "execution_count": 25,
   "id": "3479789f-2470-492c-8608-4c62c866f311",
   "metadata": {},
   "outputs": [],
   "source": [
    "c = round(y**2, 4)"
   ]
  },
  {
   "cell_type": "code",
   "execution_count": 26,
   "id": "be560d7d-bc38-4629-b299-39e8f3ac51ec",
   "metadata": {},
   "outputs": [
    {
     "data": {
      "text/plain": [
       "float"
      ]
     },
     "execution_count": 26,
     "metadata": {},
     "output_type": "execute_result"
    }
   ],
   "source": [
    "type(c)"
   ]
  },
  {
   "cell_type": "code",
   "execution_count": 28,
   "id": "5fd5ef00-b1bc-486b-bd23-2af4c69120e0",
   "metadata": {},
   "outputs": [
    {
     "name": "stdout",
     "output_type": "stream",
     "text": [
      "10 3.142 Bernard True\n"
     ]
    }
   ],
   "source": [
    "print(x, y, name, is_active)"
   ]
  },
  {
   "cell_type": "code",
   "execution_count": 30,
   "id": "ae112543-4c33-4585-914f-069ad757b66d",
   "metadata": {},
   "outputs": [
    {
     "name": "stdout",
     "output_type": "stream",
     "text": [
      "5 10.5 Python\n"
     ]
    }
   ],
   "source": [
    "# Multiple Assignments\n",
    "x, y, z = 5, 10.5, \"Python\"\n",
    "print(x, y, z)"
   ]
  },
  {
   "cell_type": "code",
   "execution_count": 31,
   "id": "582c4b0a-c5f5-403d-a522-a6f18d2842fa",
   "metadata": {},
   "outputs": [
    {
     "name": "stdout",
     "output_type": "stream",
     "text": [
      "100 <class 'int'>\n",
      "Now I'm a string! <class 'str'>\n"
     ]
    }
   ],
   "source": [
    "# Dynamic Typing - Variables can change types\n",
    "var = 100       # Initially an integer\n",
    "print(var, type(var))\n",
    "var = \"Now I'm a string!\"\n",
    "print(var, type(var))"
   ]
  },
  {
   "cell_type": "code",
   "execution_count": 32,
   "id": "4b1eb8fd-5d12-403d-a2c9-f7febacfadfe",
   "metadata": {},
   "outputs": [],
   "source": [
    "# Basic Data Structures\n",
    "my_list = [1, 2, 3, \"four\"]  # List (mutable)\n",
    "my_tuple = (10, 20, 30)      # Tuple (immutable)\n",
    "my_set = {1, 2, 3, 3}        # Set (unique values)\n",
    "my_dict = {\"name\": \"Bob\", \"age\": 25}  # Dictionary (key-value pairs)"
   ]
  },
  {
   "cell_type": "code",
   "execution_count": 34,
   "id": "18fdfd54-b4a9-42f5-b215-445d8350e5c7",
   "metadata": {},
   "outputs": [],
   "source": [
    "# Constants (By convention, uppercase)\n",
    "PI = 3.14159\n",
    "MAX_LIMIT = 100"
   ]
  },
  {
   "cell_type": "code",
   "execution_count": 35,
   "id": "3ef3e4bd-1a22-499a-82ae-c192eb0e1913",
   "metadata": {},
   "outputs": [
    {
     "name": "stdout",
     "output_type": "stream",
     "text": [
      "Variable    Type     Data/Info\n",
      "------------------------------\n",
      "MAX_LIMIT   int      100\n",
      "PI          float    3.14159\n",
      "c           float    9.8722\n",
      "is_active   bool     True\n",
      "my_dict     dict     n=2\n",
      "my_list     list     n=4\n",
      "my_set      set      {1, 2, 3}\n",
      "my_tuple    tuple    n=3\n",
      "name        str      Bernard\n",
      "var         str      Now I'm a string!\n",
      "x           int      5\n",
      "y           float    10.5\n",
      "z           str      Python\n"
     ]
    }
   ],
   "source": [
    "whos"
   ]
  },
  {
   "cell_type": "code",
   "execution_count": 36,
   "id": "5e6b9dbf-e079-4cc3-9a04-ac2cdddc80f5",
   "metadata": {},
   "outputs": [],
   "source": [
    "num_cups = 4\n",
    "time =6"
   ]
  },
  {
   "cell_type": "code",
   "execution_count": 38,
   "id": "28f45ff2-1ac6-43d4-ad65-5f23bcbb44f8",
   "metadata": {},
   "outputs": [
    {
     "ename": "SyntaxError",
     "evalue": "invalid syntax (2226691970.py, line 1)",
     "output_type": "error",
     "traceback": [
      "\u001b[0;36m  Cell \u001b[0;32mIn[38], line 1\u001b[0;36m\u001b[0m\n\u001b[0;31m    if =3\u001b[0m\n\u001b[0m       ^\u001b[0m\n\u001b[0;31mSyntaxError\u001b[0m\u001b[0;31m:\u001b[0m invalid syntax\n"
     ]
    }
   ],
   "source": [
    "for "
   ]
  },
  {
   "cell_type": "code",
   "execution_count": null,
   "id": "3e15a35b-2627-4136-bbe1-3a1e8e684256",
   "metadata": {},
   "outputs": [],
   "source": []
  }
 ],
 "metadata": {
  "kernelspec": {
   "display_name": "Python 3 (ipykernel)",
   "language": "python",
   "name": "python3"
  },
  "language_info": {
   "codemirror_mode": {
    "name": "ipython",
    "version": 3
   },
   "file_extension": ".py",
   "mimetype": "text/x-python",
   "name": "python",
   "nbconvert_exporter": "python",
   "pygments_lexer": "ipython3",
   "version": "3.9.20"
  }
 },
 "nbformat": 4,
 "nbformat_minor": 5
}
