{
 "cells": [
  {
   "cell_type": "code",
   "execution_count": 3,
   "id": "937a1da2-6a44-4ec7-b959-d6dbd9697eb7",
   "metadata": {
    "editable": true,
    "slideshow": {
     "slide_type": ""
    },
    "tags": []
   },
   "outputs": [],
   "source": [
    "import glob\n",
    "import os"
   ]
  },
  {
   "cell_type": "code",
   "execution_count": null,
   "id": "76b552ca-38eb-4062-af1a-addd76f7dd35",
   "metadata": {},
   "outputs": [],
   "source": [
    "## Find the latest file"
   ]
  },
  {
   "cell_type": "code",
   "execution_count": 4,
   "id": "5798f2bd-5efd-40c7-b80d-5901c98eb6ae",
   "metadata": {},
   "outputs": [
    {
     "name": "stdout",
     "output_type": "stream",
     "text": [
      "The most recent file is: glob.ipynb\n"
     ]
    }
   ],
   "source": [
    "latest_file = max(glob.glob(\"*.*\"), key = os.path.getmtime)\n",
    "print('The most recent file is:', latest_file)"
   ]
  },
  {
   "cell_type": "code",
   "execution_count": null,
   "id": "a9f4581a-2881-4b48-9d21-4e25a346e918",
   "metadata": {},
   "outputs": [],
   "source": []
  },
  {
   "cell_type": "code",
   "execution_count": null,
   "id": "d00d70e5-1df6-4f70-867a-0f56a51ada0c",
   "metadata": {},
   "outputs": [],
   "source": []
  }
 ],
 "metadata": {
  "kernelspec": {
   "display_name": "Python 3 (ipykernel)",
   "language": "python",
   "name": "python3"
  },
  "language_info": {
   "codemirror_mode": {
    "name": "ipython",
    "version": 3
   },
   "file_extension": ".py",
   "mimetype": "text/x-python",
   "name": "python",
   "nbconvert_exporter": "python",
   "pygments_lexer": "ipython3",
   "version": "3.9.20"
  }
 },
 "nbformat": 4,
 "nbformat_minor": 5
}
