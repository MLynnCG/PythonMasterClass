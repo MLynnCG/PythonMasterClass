{
 "cells": [
  {
   "cell_type": "code",
   "execution_count": 1,
   "id": "e3eb35f5-4e85-4c2a-ba35-bf0fcea8052b",
   "metadata": {},
   "outputs": [],
   "source": [
    "import numpy as np"
   ]
  },
  {
   "cell_type": "markdown",
   "id": "d307d53d-d3ef-4513-aa03-fc9fea1aeddb",
   "metadata": {},
   "source": [
    "# Compute stats"
   ]
  },
  {
   "cell_type": "code",
   "execution_count": 2,
   "id": "757f034c-650f-48f5-9127-d8742f89fed9",
   "metadata": {},
   "outputs": [],
   "source": [
    "arr = np.array(np.arange(20))"
   ]
  },
  {
   "cell_type": "code",
   "execution_count": 7,
   "id": "1de9a019-afb5-4407-ad3d-36db495c8cd6",
   "metadata": {},
   "outputs": [
    {
     "data": {
      "text/plain": [
       "array([ 0,  1,  2,  3,  4,  5,  6,  7,  8,  9, 10, 11, 12, 13, 14, 15, 16,\n",
       "       17, 18, 19])"
      ]
     },
     "execution_count": 7,
     "metadata": {},
     "output_type": "execute_result"
    }
   ],
   "source": [
    "arr"
   ]
  },
  {
   "cell_type": "code",
   "execution_count": 8,
   "id": "a270fac7-be9f-4b7d-a7b4-238d3f5eac81",
   "metadata": {},
   "outputs": [],
   "source": [
    "mean_array = np.nanmean(arr)"
   ]
  },
  {
   "cell_type": "code",
   "execution_count": 9,
   "id": "c4fd6808-905a-4d5e-8468-4cc6ba5a099a",
   "metadata": {},
   "outputs": [
    {
     "data": {
      "text/plain": [
       "9.5"
      ]
     },
     "execution_count": 9,
     "metadata": {},
     "output_type": "execute_result"
    }
   ],
   "source": [
    "mean_array"
   ]
  },
  {
   "cell_type": "code",
   "execution_count": 10,
   "id": "cc5f0003-4ad2-48ea-a156-d4b8a7f58b20",
   "metadata": {},
   "outputs": [],
   "source": [
    "std_array = np.nanstd(arr)"
   ]
  },
  {
   "cell_type": "code",
   "execution_count": 11,
   "id": "8ada4ccc-0267-4904-ae82-f411d2f3c5b9",
   "metadata": {},
   "outputs": [
    {
     "data": {
      "text/plain": [
       "5.766281297335398"
      ]
     },
     "execution_count": 11,
     "metadata": {},
     "output_type": "execute_result"
    }
   ],
   "source": [
    "std_array"
   ]
  },
  {
   "cell_type": "code",
   "execution_count": 12,
   "id": "e4ab00e2-bcb6-457f-9242-0ca921809c64",
   "metadata": {},
   "outputs": [],
   "source": [
    "var_array = np.nanvar(arr)"
   ]
  },
  {
   "cell_type": "code",
   "execution_count": 13,
   "id": "b70b6123-5d62-46db-ae9a-65b650af0e62",
   "metadata": {},
   "outputs": [
    {
     "data": {
      "text/plain": [
       "33.25"
      ]
     },
     "execution_count": 13,
     "metadata": {},
     "output_type": "execute_result"
    }
   ],
   "source": [
    "var_array"
   ]
  },
  {
   "cell_type": "markdown",
   "id": "7cc69cd3-e666-482e-b007-039c22c11257",
   "metadata": {},
   "source": [
    "# Sorting of Arrays"
   ]
  },
  {
   "cell_type": "code",
   "execution_count": 15,
   "id": "57dd5b91-52cc-4fce-b7af-4f87076fdc8f",
   "metadata": {},
   "outputs": [
    {
     "data": {
      "text/plain": [
       "array([  0,  35,  75,  94, 122])"
      ]
     },
     "execution_count": 15,
     "metadata": {},
     "output_type": "execute_result"
    }
   ],
   "source": [
    "array2 = np.array([122,35,0,75,94])\n",
    "np.sort(array2)"
   ]
  },
  {
   "cell_type": "code",
   "execution_count": 16,
   "id": "6346bf2a-af4d-4762-945c-200481ba4dcf",
   "metadata": {},
   "outputs": [
    {
     "data": {
      "text/plain": [
       "array([122,  94,  75,  35,   0])"
      ]
     },
     "execution_count": 16,
     "metadata": {},
     "output_type": "execute_result"
    }
   ],
   "source": [
    "np.sort(array2)[::-1]"
   ]
  },
  {
   "cell_type": "markdown",
   "id": "8a81b0f5-a83a-4951-8f80-8325afa410d8",
   "metadata": {},
   "source": [
    "# Filter Arrays"
   ]
  },
  {
   "cell_type": "code",
   "execution_count": 17,
   "id": "94cbf738-fe89-4ac2-a768-39310d9b08b7",
   "metadata": {},
   "outputs": [],
   "source": [
    "filtered = arr[arr > 4]"
   ]
  },
  {
   "cell_type": "code",
   "execution_count": 18,
   "id": "3aaab152-4acf-4ed4-8709-520ab4a6b462",
   "metadata": {},
   "outputs": [
    {
     "data": {
      "text/plain": [
       "array([ 5,  6,  7,  8,  9, 10, 11, 12, 13, 14, 15, 16, 17, 18, 19])"
      ]
     },
     "execution_count": 18,
     "metadata": {},
     "output_type": "execute_result"
    }
   ],
   "source": [
    "filtered"
   ]
  },
  {
   "cell_type": "markdown",
   "id": "cff5d651-e517-4e14-b625-166b6ccf0e69",
   "metadata": {},
   "source": [
    "# Save Read Data"
   ]
  },
  {
   "cell_type": "code",
   "execution_count": 29,
   "id": "d0735396-3b15-4c6e-8d69-d70cdcfc7338",
   "metadata": {},
   "outputs": [],
   "source": [
    "np.savez(\"testsave\", filtered = filtered, array2 = array2)"
   ]
  },
  {
   "cell_type": "code",
   "execution_count": 30,
   "id": "990df830-9871-40e3-b418-5b8a252a648b",
   "metadata": {},
   "outputs": [],
   "source": [
    "loaded = np.load(\"./testsave.npz\")"
   ]
  },
  {
   "cell_type": "code",
   "execution_count": 31,
   "id": "e278fc36-4bcd-4c3a-bb82-c451eb62042a",
   "metadata": {},
   "outputs": [],
   "source": [
    "future_loaded = loaded[\"filtered\"]"
   ]
  },
  {
   "cell_type": "code",
   "execution_count": 32,
   "id": "48be06fa-ffe4-4036-9727-eb417c0191ef",
   "metadata": {},
   "outputs": [
    {
     "data": {
      "text/plain": [
       "array([ 5,  6,  7,  8,  9, 10, 11, 12, 13, 14, 15, 16, 17, 18, 19])"
      ]
     },
     "execution_count": 32,
     "metadata": {},
     "output_type": "execute_result"
    }
   ],
   "source": [
    "future_loaded"
   ]
  },
  {
   "cell_type": "code",
   "execution_count": 34,
   "id": "b8666d65-a68f-4abf-892b-58bcc941aeef",
   "metadata": {},
   "outputs": [],
   "source": [
    "future_loaded2 = loaded[\"array2\"]"
   ]
  },
  {
   "cell_type": "code",
   "execution_count": 35,
   "id": "818b84c0-7b02-4b38-80e3-4b24b972f83a",
   "metadata": {},
   "outputs": [
    {
     "data": {
      "text/plain": [
       "array([122,  35,   0,  75,  94])"
      ]
     },
     "execution_count": 35,
     "metadata": {},
     "output_type": "execute_result"
    }
   ],
   "source": [
    "future_loaded2"
   ]
  },
  {
   "cell_type": "code",
   "execution_count": null,
   "id": "6df7374b-498e-437a-8aa9-78a6038f1b7f",
   "metadata": {},
   "outputs": [],
   "source": []
  }
 ],
 "metadata": {
  "kernelspec": {
   "display_name": "Python 3",
   "language": "python",
   "name": "python3"
  },
  "language_info": {
   "codemirror_mode": {
    "name": "ipython",
    "version": 3
   },
   "file_extension": ".py",
   "mimetype": "text/x-python",
   "name": "python",
   "nbconvert_exporter": "python",
   "pygments_lexer": "ipython3",
   "version": "3.6.9"
  }
 },
 "nbformat": 4,
 "nbformat_minor": 5
}
