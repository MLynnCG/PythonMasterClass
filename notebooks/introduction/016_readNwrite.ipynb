{
 "cells": [
  {
   "cell_type": "code",
   "execution_count": 22,
   "id": "84de3d3a-fc15-4c29-b695-6ec1cb87b2f8",
   "metadata": {},
   "outputs": [],
   "source": [
    "import pandas as pd\n",
    "import json\n",
    "import pickle\n",
    "import numpy as np"
   ]
  },
  {
   "cell_type": "code",
   "execution_count": 5,
   "id": "ddd9c9b0-7c94-4320-857b-5dc0d8614d12",
   "metadata": {},
   "outputs": [],
   "source": [
    "# 1. Read & Write Text File\n",
    "with open(\"./data/example.txt\", \"w\") as f:\n",
    "    f.write(\"Hello, Python!\")"
   ]
  },
  {
   "cell_type": "code",
   "execution_count": 7,
   "id": "6a66f8a5-ad23-48e4-9c98-773e8d5e02dc",
   "metadata": {},
   "outputs": [
    {
     "name": "stdout",
     "output_type": "stream",
     "text": [
      "Text File Content: Hello, Python!\n"
     ]
    }
   ],
   "source": [
    "with open(\"./data/example.txt\", \"r\") as f:\n",
    "    content = f.read()\n",
    "print(\"Text File Content:\", content)"
   ]
  },
  {
   "cell_type": "code",
   "execution_count": 10,
   "id": "5a1f5735-6d23-488d-b467-3c114d7aadc0",
   "metadata": {},
   "outputs": [],
   "source": [
    "# 2. Read & Write CSV File\n",
    "df = pd.DataFrame({\"Name\": [\"Alice\", \"Bob\"], \"Age\": [25, 30]})\n",
    "df.to_csv(\"./data/data.csv\", index=False)"
   ]
  },
  {
   "cell_type": "code",
   "execution_count": 12,
   "id": "77790f8e-61df-4b5a-84a6-1b45178eb05a",
   "metadata": {},
   "outputs": [
    {
     "name": "stdout",
     "output_type": "stream",
     "text": [
      "CSV File Content:\n",
      "     Name  Age\n",
      "0  Alice   25\n",
      "1    Bob   30\n"
     ]
    }
   ],
   "source": [
    "df_read = pd.read_csv(\"./data/data.csv\")\n",
    "print(\"CSV File Content:\\n\", df_read)"
   ]
  },
  {
   "cell_type": "code",
   "execution_count": 13,
   "id": "e25d930f-1945-40f7-9b13-1f260bf8709c",
   "metadata": {},
   "outputs": [],
   "source": [
    "# 3. Read & Write JSON File\n",
    "data = {\"name\": \"Alice\", \"age\": 25}\n",
    "with open(\"./data/data.json\", \"w\") as f:\n",
    "    json.dump(data, f)"
   ]
  },
  {
   "cell_type": "code",
   "execution_count": 15,
   "id": "310fb057-6165-4f5f-8248-1d716e067b89",
   "metadata": {},
   "outputs": [
    {
     "name": "stdout",
     "output_type": "stream",
     "text": [
      "JSON File Content: {'name': 'Alice', 'age': 25}\n"
     ]
    }
   ],
   "source": [
    "with open(\"./data/data.json\", \"r\") as f:\n",
    "    loaded_data = json.load(f)\n",
    "print(\"JSON File Content:\", loaded_data)"
   ]
  },
  {
   "cell_type": "code",
   "execution_count": 18,
   "id": "383900ae-8ab7-4aaa-a654-384e437b2df3",
   "metadata": {},
   "outputs": [],
   "source": [
    "# # 4. Read & Write Excel File\n",
    "# df.to_excel(\"./data/data.xlsx\", index=False)"
   ]
  },
  {
   "cell_type": "code",
   "execution_count": null,
   "id": "0f33d2d3-260a-4729-9363-2e32f62d932e",
   "metadata": {},
   "outputs": [],
   "source": [
    "df_read = pd.read_excel(\"data.xlsx\")\n",
    "print(\"Excel File Content:\\n\", df_read)"
   ]
  },
  {
   "cell_type": "code",
   "execution_count": 17,
   "id": "89a64c93-e195-4848-bd88-362b55d0368f",
   "metadata": {},
   "outputs": [],
   "source": [
    "# 5. Read & Write Pickle File\n",
    "with open(\"./data/data.pkl\", \"wb\") as f:\n",
    "    pickle.dump(df, f)"
   ]
  },
  {
   "cell_type": "code",
   "execution_count": 20,
   "id": "ef11b401-c5b0-44a9-9459-711e3be488e5",
   "metadata": {},
   "outputs": [
    {
     "name": "stdout",
     "output_type": "stream",
     "text": [
      "Pickle File Content:\n",
      "     Name  Age\n",
      "0  Alice   25\n",
      "1    Bob   30\n"
     ]
    }
   ],
   "source": [
    "with open(\"./data/data.pkl\", \"rb\") as f:\n",
    "    df_loaded = pickle.load(f)\n",
    "print(\"Pickle File Content:\\n\", df_loaded)"
   ]
  },
  {
   "cell_type": "code",
   "execution_count": 24,
   "id": "bc64a47b-d84e-4943-9d9d-44124e6a3241",
   "metadata": {},
   "outputs": [],
   "source": [
    "a = np.array([3,4,3,2,3])"
   ]
  },
  {
   "cell_type": "code",
   "execution_count": 26,
   "id": "9475f135-1cc6-400d-b3c1-65067a3f9439",
   "metadata": {},
   "outputs": [],
   "source": [
    "np.savez('./data/testnp.npz', ar=a)"
   ]
  },
  {
   "cell_type": "code",
   "execution_count": 28,
   "id": "b8a2d87e-1def-48aa-80d8-2b76cd95f863",
   "metadata": {},
   "outputs": [],
   "source": [
    "loaded = np.load('./data/testnp.npz')\n",
    "aa = loaded['ar']"
   ]
  },
  {
   "cell_type": "code",
   "execution_count": 29,
   "id": "b9ee91a2-db9f-4b1d-8771-313b3f4ef8db",
   "metadata": {},
   "outputs": [
    {
     "data": {
      "text/plain": [
       "array([3, 4, 3, 2, 3])"
      ]
     },
     "execution_count": 29,
     "metadata": {},
     "output_type": "execute_result"
    }
   ],
   "source": [
    "aa"
   ]
  },
  {
   "cell_type": "code",
   "execution_count": null,
   "id": "4cf05f0a-a702-4776-a3f9-ffaa050284b6",
   "metadata": {},
   "outputs": [],
   "source": []
  }
 ],
 "metadata": {
  "kernelspec": {
   "display_name": "Python 3 (ipykernel)",
   "language": "python",
   "name": "python3"
  },
  "language_info": {
   "codemirror_mode": {
    "name": "ipython",
    "version": 3
   },
   "file_extension": ".py",
   "mimetype": "text/x-python",
   "name": "python",
   "nbconvert_exporter": "python",
   "pygments_lexer": "ipython3",
   "version": "3.9.20"
  }
 },
 "nbformat": 4,
 "nbformat_minor": 5
}
