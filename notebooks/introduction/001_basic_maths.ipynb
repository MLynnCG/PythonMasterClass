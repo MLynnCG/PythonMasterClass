{
 "cells": [
  {
   "cell_type": "markdown",
   "id": "7c43d8d4-0467-405d-ac67-b46db9782daf",
   "metadata": {},
   "source": [
    "## Maths in python"
   ]
  },
  {
   "cell_type": "code",
   "execution_count": null,
   "id": "ca2b7897-6925-46e6-93b6-6149096dd1e2",
   "metadata": {
    "collapsed": true,
    "jupyter": {
     "outputs_hidden": true
    }
   },
   "outputs": [],
   "source": [
    "+ - * / // % **"
   ]
  },
  {
   "cell_type": "code",
   "execution_count": null,
   "id": "f475f36b-2876-453a-8cc4-c6103e041fe3",
   "metadata": {
    "collapsed": true,
    "jupyter": {
     "outputs_hidden": true
    }
   },
   "outputs": [],
   "source": [
    "a = 3\n",
    "b = 5\n",
    "\n",
    "c = a+b\n",
    "print(c)"
   ]
  },
  {
   "cell_type": "code",
   "execution_count": 16,
   "id": "8cc5a4fb-97e4-4756-b301-d2908b1981b9",
   "metadata": {
    "collapsed": true,
    "jupyter": {
     "outputs_hidden": true
    }
   },
   "outputs": [
    {
     "data": {
      "text/plain": [
       "125"
      ]
     },
     "execution_count": 16,
     "metadata": {},
     "output_type": "execute_result"
    }
   ],
   "source": [
    "b ** a"
   ]
  },
  {
   "cell_type": "code",
   "execution_count": 17,
   "id": "57921edc-7758-4077-a453-339283cd2991",
   "metadata": {
    "collapsed": true,
    "jupyter": {
     "outputs_hidden": true
    }
   },
   "outputs": [
    {
     "data": {
      "text/plain": [
       "125"
      ]
     },
     "execution_count": 17,
     "metadata": {},
     "output_type": "execute_result"
    }
   ],
   "source": [
    "pow(b,a)"
   ]
  },
  {
   "cell_type": "code",
   "execution_count": 12,
   "id": "c267e3db-87c7-4615-bc3e-bca99fe66fe2",
   "metadata": {
    "collapsed": true,
    "jupyter": {
     "outputs_hidden": true
    }
   },
   "outputs": [
    {
     "data": {
      "text/plain": [
       "7"
      ]
     },
     "execution_count": 12,
     "metadata": {},
     "output_type": "execute_result"
    }
   ],
   "source": [
    "f = -7\n",
    "abs(f)"
   ]
  },
  {
   "cell_type": "code",
   "execution_count": 14,
   "id": "df02e7a5-633c-46f6-938d-f7bcdf500bb4",
   "metadata": {
    "collapsed": true,
    "jupyter": {
     "outputs_hidden": true
    }
   },
   "outputs": [
    {
     "data": {
      "text/plain": [
       "7"
      ]
     },
     "execution_count": 14,
     "metadata": {},
     "output_type": "execute_result"
    }
   ],
   "source": [
    "import numpy as np\n",
    "int(np.sqrt(f**2))"
   ]
  },
  {
   "cell_type": "code",
   "execution_count": 18,
   "id": "1c0e6bf8-d40a-49dd-838c-ff936acab5c8",
   "metadata": {
    "collapsed": true,
    "jupyter": {
     "outputs_hidden": true
    }
   },
   "outputs": [
    {
     "data": {
      "text/plain": [
       "(3, 1)"
      ]
     },
     "execution_count": 18,
     "metadata": {},
     "output_type": "execute_result"
    }
   ],
   "source": [
    "divmod(10,3)"
   ]
  },
  {
   "cell_type": "code",
   "execution_count": 22,
   "id": "e87d5396-a694-4a9d-8807-865edd1fb27a",
   "metadata": {
    "collapsed": true,
    "jupyter": {
     "outputs_hidden": true
    }
   },
   "outputs": [
    {
     "data": {
      "text/plain": [
       "2.0"
      ]
     },
     "execution_count": 22,
     "metadata": {},
     "output_type": "execute_result"
    }
   ],
   "source": [
    "import math\n",
    "\n",
    "math.sqrt(b)//1"
   ]
  },
  {
   "cell_type": "code",
   "execution_count": 23,
   "id": "daf9cc39-b0ca-4026-8b27-91b3278435c6",
   "metadata": {
    "collapsed": true,
    "jupyter": {
     "outputs_hidden": true
    }
   },
   "outputs": [
    {
     "data": {
      "text/plain": [
       "1"
      ]
     },
     "execution_count": 23,
     "metadata": {},
     "output_type": "execute_result"
    }
   ],
   "source": [
    "math.floor(b/a)"
   ]
  },
  {
   "cell_type": "code",
   "execution_count": 24,
   "id": "0bebfd7e-7bc7-4cef-94b5-4f8f52296cf0",
   "metadata": {
    "collapsed": true,
    "jupyter": {
     "outputs_hidden": true
    }
   },
   "outputs": [
    {
     "data": {
      "text/plain": [
       "1.6666666666666667"
      ]
     },
     "execution_count": 24,
     "metadata": {},
     "output_type": "execute_result"
    }
   ],
   "source": [
    "b/a"
   ]
  },
  {
   "cell_type": "code",
   "execution_count": 26,
   "id": "7b0c3821-7e65-4464-9ee4-fe95edd7abd1",
   "metadata": {
    "collapsed": true,
    "jupyter": {
     "outputs_hidden": true
    }
   },
   "outputs": [
    {
     "data": {
      "text/plain": [
       "4.605170185988092"
      ]
     },
     "execution_count": 26,
     "metadata": {},
     "output_type": "execute_result"
    }
   ],
   "source": [
    "PI = 3.142\n",
    "math.pi \n",
    "math.log(100)"
   ]
  },
  {
   "cell_type": "code",
   "execution_count": 32,
   "id": "715ef344-f8a4-4f6e-b2d5-a83003dfefd2",
   "metadata": {
    "collapsed": true,
    "jupyter": {
     "outputs_hidden": true
    }
   },
   "outputs": [
    {
     "name": "stdout",
     "output_type": "stream",
     "text": [
      "(2+1j)\n",
      "(-13.128783081462158-15.200784463067954j)\n",
      "0.9272952180016122\n"
     ]
    }
   ],
   "source": [
    "import cmath\n",
    "\n",
    "z = complex(3,4)\n",
    "print(cmath.sqrt(z))\n",
    "print(cmath.exp(z))\n",
    "print(cmath.phase(z))\n"
   ]
  },
  {
   "cell_type": "code",
   "execution_count": 36,
   "id": "e465cae6-41d7-476b-b733-18a52777e16e",
   "metadata": {
    "collapsed": true,
    "jupyter": {
     "outputs_hidden": true
    }
   },
   "outputs": [
    {
     "data": {
      "text/plain": [
       "7.378936899701806"
      ]
     },
     "execution_count": 36,
     "metadata": {},
     "output_type": "execute_result"
    }
   ],
   "source": [
    "import random\n",
    "random.randint(1,3)\n",
    "random.uniform(2,10)"
   ]
  },
  {
   "cell_type": "code",
   "execution_count": 39,
   "id": "050069b0-72cb-4130-bc2b-b9789232ba20",
   "metadata": {
    "collapsed": true,
    "jupyter": {
     "outputs_hidden": true
    }
   },
   "outputs": [
    {
     "data": {
      "text/plain": [
       "'pen'"
      ]
     },
     "execution_count": 39,
     "metadata": {},
     "output_type": "execute_result"
    }
   ],
   "source": [
    "random.choice(['banana', 'apple', 'pen'])"
   ]
  },
  {
   "cell_type": "code",
   "execution_count": 40,
   "id": "d6d9f291-951d-4bbc-8f05-e1ae3e2ca51a",
   "metadata": {
    "collapsed": true,
    "jupyter": {
     "outputs_hidden": true
    }
   },
   "outputs": [],
   "source": [
    "arr = np.array([2,3,2,3,9])"
   ]
  },
  {
   "cell_type": "code",
   "execution_count": 42,
   "id": "93b1af17-b08f-4fb8-899a-ac47f368e33a",
   "metadata": {
    "collapsed": true,
    "jupyter": {
     "outputs_hidden": true
    }
   },
   "outputs": [
    {
     "data": {
      "text/plain": [
       "numpy.ndarray"
      ]
     },
     "execution_count": 42,
     "metadata": {},
     "output_type": "execute_result"
    }
   ],
   "source": [
    "type(arr)"
   ]
  },
  {
   "cell_type": "code",
   "execution_count": 44,
   "id": "984b4111-7791-4f0d-9570-f46a1240deee",
   "metadata": {
    "collapsed": true,
    "jupyter": {
     "outputs_hidden": true
    }
   },
   "outputs": [
    {
     "data": {
      "text/plain": [
       "array([-0.41614684, -0.9899925 , -0.41614684, -0.9899925 , -0.91113026])"
      ]
     },
     "execution_count": 44,
     "metadata": {},
     "output_type": "execute_result"
    }
   ],
   "source": [
    "np.sin(arr)\n",
    "np.cos(arr)"
   ]
  },
  {
   "cell_type": "code",
   "execution_count": 45,
   "id": "12ae8053-8ba2-467c-be2d-ed43a669e43f",
   "metadata": {
    "collapsed": true,
    "jupyter": {
     "outputs_hidden": true
    }
   },
   "outputs": [
    {
     "data": {
      "text/plain": [
       "-2.0000000000000004"
      ]
     },
     "execution_count": 45,
     "metadata": {},
     "output_type": "execute_result"
    }
   ],
   "source": [
    "np.linalg.det([[1,2], [3,4]])"
   ]
  },
  {
   "cell_type": "code",
   "execution_count": 46,
   "id": "db48c0fe-7b0c-41a1-b260-759fa0fced27",
   "metadata": {
    "collapsed": true,
    "jupyter": {
     "outputs_hidden": true
    }
   },
   "outputs": [],
   "source": [
    "from sympy import symbols, solve, diff, integrate"
   ]
  },
  {
   "cell_type": "code",
   "execution_count": 48,
   "id": "1484691b-9355-4c87-b43e-1d9067aa9841",
   "metadata": {
    "collapsed": true,
    "jupyter": {
     "outputs_hidden": true
    }
   },
   "outputs": [
    {
     "data": {
      "text/latex": [
       "$\\displaystyle x$"
      ],
      "text/plain": [
       "x"
      ]
     },
     "execution_count": 48,
     "metadata": {},
     "output_type": "execute_result"
    }
   ],
   "source": [
    "x = symbols('x')\n",
    "x"
   ]
  },
  {
   "cell_type": "code",
   "execution_count": 50,
   "id": "bf9b7aea-52d3-4c10-9c04-5edb24eb0e98",
   "metadata": {
    "collapsed": true,
    "jupyter": {
     "outputs_hidden": true
    }
   },
   "outputs": [
    {
     "name": "stdout",
     "output_type": "stream",
     "text": [
      "[-2, 2]\n"
     ]
    }
   ],
   "source": [
    "expr = x**2 -4\n",
    "print(solve(expr,x))"
   ]
  },
  {
   "cell_type": "code",
   "execution_count": 51,
   "id": "d7d40b99-c599-425f-98be-c7d574430c5b",
   "metadata": {
    "collapsed": true,
    "jupyter": {
     "outputs_hidden": true
    }
   },
   "outputs": [
    {
     "name": "stdout",
     "output_type": "stream",
     "text": [
      "3*x**2\n"
     ]
    }
   ],
   "source": [
    "print(diff(x**3,x))"
   ]
  },
  {
   "cell_type": "code",
   "execution_count": 52,
   "id": "20c7ea09-f393-4d69-b9d9-8773fcf19803",
   "metadata": {
    "collapsed": true,
    "jupyter": {
     "outputs_hidden": true
    }
   },
   "outputs": [
    {
     "name": "stdout",
     "output_type": "stream",
     "text": [
      "x**3/3\n"
     ]
    }
   ],
   "source": [
    "print(integrate(x**2,x))"
   ]
  },
  {
   "cell_type": "code",
   "execution_count": 1,
   "id": "14f29f48-3644-4a5c-8b5a-9432c6bc9e1c",
   "metadata": {},
   "outputs": [
    {
     "name": "stdout",
     "output_type": "stream",
     "text": [
      "001_basic_maths.ipynb               010_List.ipynb\n",
      "002_numpy.ipynb                     011_classes.ipynb\n",
      "003_Data Type.ipynb                 012_Loops.ipynb\n",
      "004_1_If-Else.ipynb                 013_Booleans.ipynb\n",
      "004_elif.ipynb                      014_plotting.ipynb\n",
      "005_Intro_To_Python_plotting.ipynb  015_python_functions_intro.ipynb\n",
      "006_Functions.ipynb                 016_readNwrite.ipynb\n",
      "007_Dictionaries.ipynb              017_variables.ipynb\n",
      "008_Functions.ipynb                 Exercises.ipynb\n",
      "009_glob.ipynb                      Readme.txt\n"
     ]
    }
   ],
   "source": [
    "ls"
   ]
  },
  {
   "cell_type": "code",
   "execution_count": 2,
   "id": "a0481f47-4502-47f0-92c5-2ce2a45ac262",
   "metadata": {},
   "outputs": [
    {
     "data": {
      "text/plain": [
       "'/Users/bernard/idp/python_tutorial_shawn/main'"
      ]
     },
     "execution_count": 2,
     "metadata": {},
     "output_type": "execute_result"
    }
   ],
   "source": [
    "pwd\n"
   ]
  },
  {
   "cell_type": "code",
   "execution_count": null,
   "id": "d9608784-0829-40c5-8416-9944fc32a3c4",
   "metadata": {},
   "outputs": [],
   "source": []
  }
 ],
 "metadata": {
  "kernelspec": {
   "display_name": "Python 3 (ipykernel)",
   "language": "python",
   "name": "python3"
  },
  "language_info": {
   "codemirror_mode": {
    "name": "ipython",
    "version": 3
   },
   "file_extension": ".py",
   "mimetype": "text/x-python",
   "name": "python",
   "nbconvert_exporter": "python",
   "pygments_lexer": "ipython3",
   "version": "3.9.20"
  }
 },
 "nbformat": 4,
 "nbformat_minor": 5
}
