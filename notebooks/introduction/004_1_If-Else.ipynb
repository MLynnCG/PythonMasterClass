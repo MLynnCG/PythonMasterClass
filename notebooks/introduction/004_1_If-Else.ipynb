{
 "cells": [
  {
   "cell_type": "markdown",
   "id": "9b1d1a89-d31d-4eb8-949d-48fc546034e5",
   "metadata": {},
   "source": [
    "# If-Else statements and elif"
   ]
  },
  {
   "cell_type": "code",
   "execution_count": 1,
   "id": "115714c4-ccbf-43ab-bdf5-ea07e49120e6",
   "metadata": {},
   "outputs": [
    {
     "name": "stdout",
     "output_type": "stream",
     "text": [
      "yes\n"
     ]
    }
   ],
   "source": [
    "if 5 < 10:\n",
    "    print(\"yes\")\n",
    "else:\n",
    "    print(\"no\")"
   ]
  },
  {
   "cell_type": "code",
   "execution_count": 2,
   "id": "d4509d66-ed9f-46ba-a02c-f4f712a22bff",
   "metadata": {},
   "outputs": [
    {
     "name": "stdout",
     "output_type": "stream",
     "text": [
      "no\n"
     ]
    }
   ],
   "source": [
    "if 15 < 10:\n",
    "    print(\"yes\")\n",
    "else:\n",
    "    print(\"no\")"
   ]
  },
  {
   "cell_type": "code",
   "execution_count": 3,
   "id": "2905b8bb-5f08-4558-b757-d41b9622d3de",
   "metadata": {},
   "outputs": [
    {
     "name": "stdout",
     "output_type": "stream",
     "text": [
      "equal\n"
     ]
    }
   ],
   "source": [
    "if 15 >= 20:\n",
    "    print(\"banana\")\n",
    "elif 16 == 16:\n",
    "    print(\"equal\")\n",
    "else:\n",
    "    print(\"nothing\")"
   ]
  },
  {
   "cell_type": "code",
   "execution_count": null,
   "id": "0b65de8f-a262-4cf7-936d-58691e42adf0",
   "metadata": {},
   "outputs": [],
   "source": []
  }
 ],
 "metadata": {
  "kernelspec": {
   "display_name": "Python 3",
   "language": "python",
   "name": "python3"
  },
  "language_info": {
   "codemirror_mode": {
    "name": "ipython",
    "version": 3
   },
   "file_extension": ".py",
   "mimetype": "text/x-python",
   "name": "python",
   "nbconvert_exporter": "python",
   "pygments_lexer": "ipython3",
   "version": "3.6.9"
  }
 },
 "nbformat": 4,
 "nbformat_minor": 5
}
