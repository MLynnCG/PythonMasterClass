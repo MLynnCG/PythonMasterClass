{
 "cells": [
  {
   "cell_type": "markdown",
   "id": "f2f3bab8-39f3-4057-9f12-2b110ae0240c",
   "metadata": {},
   "source": [
    "# Dictionaries"
   ]
  },
  {
   "cell_type": "code",
   "execution_count": 3,
   "id": "2871a42d-8ec5-4d81-9829-8c1eda7997c9",
   "metadata": {},
   "outputs": [],
   "source": [
    "cardict = {\n",
    "    \"brand\": \"Nissan\",\n",
    "    \"model\": \"Sentra\",\n",
    "    \"year\": 2014\n",
    "}\n"
   ]
  },
  {
   "cell_type": "code",
   "execution_count": 4,
   "id": "13a29205-4b41-46a7-b355-ac9579d74dc9",
   "metadata": {},
   "outputs": [
    {
     "name": "stdout",
     "output_type": "stream",
     "text": [
      "{'brand': 'Nissan', 'model': 'Sentra', 'year': 2014}\n"
     ]
    }
   ],
   "source": [
    "print(cardict)"
   ]
  },
  {
   "cell_type": "code",
   "execution_count": 5,
   "id": "cef0acca-2f70-42f8-89c6-9c4e2bbf7ff6",
   "metadata": {},
   "outputs": [],
   "source": [
    "x = cardict[\"model\"]"
   ]
  },
  {
   "cell_type": "code",
   "execution_count": 6,
   "id": "fd4fa082-ef0d-4636-afaa-745bb66f7a8f",
   "metadata": {},
   "outputs": [
    {
     "data": {
      "text/plain": [
       "'Sentra'"
      ]
     },
     "execution_count": 6,
     "metadata": {},
     "output_type": "execute_result"
    }
   ],
   "source": [
    "x"
   ]
  },
  {
   "cell_type": "code",
   "execution_count": 17,
   "id": "6394b61a-452c-479d-aa55-174e1ddf7996",
   "metadata": {},
   "outputs": [
    {
     "name": "stdout",
     "output_type": "stream",
     "text": [
      "brand\n",
      "False\n",
      "model\n",
      "False\n",
      "year\n",
      "False\n"
     ]
    }
   ],
   "source": [
    "for item in cardict:\n",
    "    print(item)\n",
    "    print(cardict[item] == \"model\")\n",
    "    #print(cardict[item])"
   ]
  },
  {
   "cell_type": "code",
   "execution_count": 5,
   "id": "0cc8929f-6b34-4d62-bad5-7f2276672fab",
   "metadata": {},
   "outputs": [],
   "source": [
    "for i in range(3):\n",
    "    #print(2*i) \n",
    "    pass "
   ]
  },
  {
   "cell_type": "code",
   "execution_count": 12,
   "id": "91c84ef3-2383-4439-abaf-1629a97d7ba9",
   "metadata": {},
   "outputs": [],
   "source": [
    "if \"model\" in cardict:\n",
    "    for item in cardict:\n",
    "    print(cardict[item])\n"
   ]
  },
  {
   "cell_type": "code",
   "execution_count": 15,
   "id": "24c5125d-1110-4e5a-bc39-9b5570cbdf39",
   "metadata": {},
   "outputs": [
    {
     "data": {
      "text/plain": [
       "False"
      ]
     },
     "execution_count": 15,
     "metadata": {},
     "output_type": "execute_result"
    }
   ],
   "source": [
    "cardict[item] == \"model\""
   ]
  },
  {
   "cell_type": "code",
   "execution_count": null,
   "id": "3b03110a-d289-47d1-b3e1-ed28ca782592",
   "metadata": {},
   "outputs": [],
   "source": []
  }
 ],
 "metadata": {
  "kernelspec": {
   "display_name": "Python 3",
   "language": "python",
   "name": "python3"
  },
  "language_info": {
   "codemirror_mode": {
    "name": "ipython",
    "version": 3
   },
   "file_extension": ".py",
   "mimetype": "text/x-python",
   "name": "python",
   "nbconvert_exporter": "python",
   "pygments_lexer": "ipython3",
   "version": "3.6.9"
  }
 },
 "nbformat": 4,
 "nbformat_minor": 5
}
