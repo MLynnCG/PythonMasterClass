{
 "cells": [
  {
   "cell_type": "markdown",
   "id": "c51276f3-e2f6-4c77-8986-6f974de7ab83",
   "metadata": {},
   "source": [
    "## Classes"
   ]
  },
  {
   "cell_type": "code",
   "execution_count": 1,
   "id": "2e2a849a-5b99-4eef-8274-0140935485ac",
   "metadata": {},
   "outputs": [],
   "source": [
    "class Car:\n",
    "    def __init__(self, brand, model, color, year, max_spd):\n",
    "        self.brand = brand\n",
    "        self.model = model\n",
    "        self.color = color\n",
    "        self.year = year\n",
    "        self.max_spd = max_spd\n",
    "        \n",
    "    def display_info(self):\n",
    "        return f\"{self.brand} {self.model} {self.year} {self.color} {self.max_spd}\"\n",
    "\n",
    "    def start_engine(self):\n",
    "        self.is_running = True\n",
    "        return f\"{self.brand} {self.model} engine started!\""
   ]
  },
  {
   "cell_type": "code",
   "execution_count": 3,
   "id": "6904e8ff-4da9-4de9-aa8e-d10c27cfe5f4",
   "metadata": {},
   "outputs": [
    {
     "name": "stdout",
     "output_type": "stream",
     "text": [
      "Toyota Corolla 2025 Blue 200\n",
      "Kia Optima 2021 black 300\n"
     ]
    }
   ],
   "source": [
    "my_car = Car(\"Toyota\", \"Corolla\", \"Blue\", 2025, 200)\n",
    "print(my_car.display_info())\n",
    "\n",
    "my_car1 = Car(\"Kia\", \"Optima\", \"black\", 2021, 300)\n",
    "print(my_car1.display_info())\n"
   ]
  },
  {
   "cell_type": "code",
   "execution_count": 4,
   "id": "1727ff9a-2de8-425c-94dd-cc75b46ef594",
   "metadata": {},
   "outputs": [
    {
     "name": "stdout",
     "output_type": "stream",
     "text": [
      "Honda Civic engine started!\n"
     ]
    }
   ],
   "source": [
    "my_car2 = Car(\"Honda\", \"Civic\", \"Blue\", 2023, 500)\n",
    "print(my_car2.start_engine())"
   ]
  },
  {
   "cell_type": "code",
   "execution_count": null,
   "id": "07ff6350-5767-4223-93f5-3e660f6a273b",
   "metadata": {
    "jupyter": {
     "source_hidden": true
    }
   },
   "outputs": [],
   "source": []
  }
 ],
 "metadata": {
  "kernelspec": {
   "display_name": "Python 3 (ipykernel)",
   "language": "python",
   "name": "python3"
  },
  "language_info": {
   "codemirror_mode": {
    "name": "ipython",
    "version": 3
   },
   "file_extension": ".py",
   "mimetype": "text/x-python",
   "name": "python",
   "nbconvert_exporter": "python",
   "pygments_lexer": "ipython3",
   "version": "3.9.20"
  }
 },
 "nbformat": 4,
 "nbformat_minor": 5
}
