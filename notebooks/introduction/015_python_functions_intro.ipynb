{
 "cells": [
  {
   "cell_type": "markdown",
   "id": "11c97c01-50ec-41eb-b42f-435d082e237d",
   "metadata": {},
   "source": [
    "## Python Functions"
   ]
  },
  {
   "cell_type": "code",
   "execution_count": 11,
   "id": "5f075f0c-6d5d-470c-8ce7-8cc57d743dcf",
   "metadata": {},
   "outputs": [],
   "source": [
    "def greet(name= \"Guest\"):\n",
    "    print(f'Hello {name}')"
   ]
  },
  {
   "cell_type": "code",
   "execution_count": 12,
   "id": "6eff50e3-e812-4c40-b350-a59d5ec26efa",
   "metadata": {},
   "outputs": [
    {
     "name": "stdout",
     "output_type": "stream",
     "text": [
      "Hello Bernard\n",
      "Hello Maria\n",
      "Hello Guest\n"
     ]
    }
   ],
   "source": [
    "greet('Bernard')\n",
    "greet('Maria')\n",
    "greet()"
   ]
  },
  {
   "cell_type": "markdown",
   "id": "6f8d677e-0219-4b3c-a500-9871ab4b865e",
   "metadata": {},
   "source": [
    "## math"
   ]
  },
  {
   "cell_type": "code",
   "execution_count": 19,
   "id": "9302841b-a649-4b16-a08b-4896a3c1d266",
   "metadata": {},
   "outputs": [],
   "source": [
    "def sqr(num):\n",
    "    #print(num*num)\n",
    "    # this function squares two numbers\n",
    "    return num*num\n"
   ]
  },
  {
   "cell_type": "code",
   "execution_count": 29,
   "id": "9429cdb6-2c58-4c8f-af3b-0b97c5ecb595",
   "metadata": {},
   "outputs": [
    {
     "name": "stdout",
     "output_type": "stream",
     "text": [
      "25.0\n"
     ]
    }
   ],
   "source": [
    "x = sqr(5.0)\n",
    "print(x)"
   ]
  },
  {
   "cell_type": "code",
   "execution_count": 25,
   "id": "6766ef14-983e-4fc6-ba46-d2be5d6195af",
   "metadata": {},
   "outputs": [
    {
     "name": "stdout",
     "output_type": "stream",
     "text": [
      "Variable   Type        Data/Info\n",
      "--------------------------------\n",
      "greet      function    <function greet at 0x11300daf0>\n",
      "sqr        function    <function sqr at 0x11303f3a0>\n",
      "x          int         25\n"
     ]
    }
   ],
   "source": [
    "whos"
   ]
  },
  {
   "cell_type": "code",
   "execution_count": 28,
   "id": "592c1f9d-7843-4e62-9640-cea254f37b28",
   "metadata": {},
   "outputs": [
    {
     "name": "stdout",
     "output_type": "stream",
     "text": [
      "9\n"
     ]
    }
   ],
   "source": [
    "sqrd = lambda x: x*x\n",
    "print(sqrd(3))"
   ]
  },
  {
   "cell_type": "code",
   "execution_count": null,
   "id": "b0741901-c606-4efc-a165-40eade2422d5",
   "metadata": {},
   "outputs": [],
   "source": []
  }
 ],
 "metadata": {
  "kernelspec": {
   "display_name": "Python 3 (ipykernel)",
   "language": "python",
   "name": "python3"
  },
  "language_info": {
   "codemirror_mode": {
    "name": "ipython",
    "version": 3
   },
   "file_extension": ".py",
   "mimetype": "text/x-python",
   "name": "python",
   "nbconvert_exporter": "python",
   "pygments_lexer": "ipython3",
   "version": "3.9.20"
  }
 },
 "nbformat": 4,
 "nbformat_minor": 5
}
